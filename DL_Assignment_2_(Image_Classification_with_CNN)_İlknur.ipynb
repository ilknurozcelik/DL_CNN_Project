{
 "cells": [
  {
   "cell_type": "markdown",
   "metadata": {
    "id": "0X6i104dy9AD"
   },
   "source": [
    "___\n",
    "\n",
    "<p style=\"text-align: center;\"><img src=\"https://docs.google.com/uc?id=1lY0Uj5R04yMY3-ZppPWxqCr5pvBLYPnV\" class=\"img-fluid\" alt=\"CLRSWY\"></p>\n",
    "\n",
    "___"
   ]
  },
  {
   "cell_type": "markdown",
   "metadata": {
    "id": "1M6AeMJ5y9AH"
   },
   "source": [
    "<h1 style=\"text-align: center;\">Deep Learning<br><br>Assignment-2 (CNN)<br><br>Image Classification with CNN<br><h1>"
   ]
  },
  {
   "cell_type": "markdown",
   "metadata": {
    "id": "E-Cn4a_7y9AI"
   },
   "source": [
    "# Task and Dataset Info\n",
    "\n",
    "Welcome to second assignment of Deep learning lesson. Follow the instructions and complete the assignment.\n",
    "\n",
    "**Build an image classifier with Convolutional Neural Networks for the Fashion MNIST dataset. This data set includes 10 labels of different clothing types with 28 by 28 *grayscale* images. There is a training set of 60,000 images and 10,000 test images.**\n",
    "\n",
    "    Label\tDescription\n",
    "    0\t    T-shirt/top\n",
    "    1\t    Trouser\n",
    "    2\t    Pullover\n",
    "    3\t    Dress\n",
    "    4\t    Coat\n",
    "    5\t    Sandal\n",
    "    6\t    Shirt\n",
    "    7\t    Sneaker\n",
    "    8\t    Bag\n",
    "    9\t    Ankle boot"
   ]
  },
  {
   "cell_type": "markdown",
   "metadata": {
    "id": "mhDo4RNry9AJ"
   },
   "source": [
    "# Import Libraries"
   ]
  },
  {
   "cell_type": "code",
   "execution_count": 92,
   "metadata": {
    "id": "PboIM4zzy9AJ"
   },
   "outputs": [],
   "source": [
    "import os\n",
    "import numpy as np\n",
    "import pandas as pd\n",
    "import matplotlib.pyplot as plt\n",
    "import seaborn as sns\n",
    "from matplotlib.image import imread\n",
    "\n",
    "#import warnings\n",
    "#warnings.filterwarnings(\"ignore\")\n",
    "#warnings.warn(\"this will not show\")\n",
    "\n",
    "plt.rcParams[\"figure.figsize\"] = (10,6)\n",
    "\n",
    "sns.set_style(\"whitegrid\")\n",
    "pd.set_option('display.float_format', lambda x: '%.3f' % x)\n",
    "\n",
    "# Set it None to display all rows in the dataframe\n",
    "# pd.set_option('display.max_rows', None)\n",
    "\n",
    "# Set it to None to display all columns in the dataframe\n",
    "pd.set_option('display.max_columns', None)"
   ]
  },
  {
   "cell_type": "markdown",
   "metadata": {
    "id": "6DX8irsry9AK"
   },
   "source": [
    "# Recognizing and Understanding Data\n",
    "\n",
    "**TASK 1: Run the code below to download the dataset using Keras.**"
   ]
  },
  {
   "cell_type": "code",
   "execution_count": 93,
   "metadata": {
    "id": "hDyZLVPqy9AK"
   },
   "outputs": [],
   "source": [
    "# Loadind MNIST dataset from keras datasetes\n",
    "\n",
    "from tensorflow.keras.datasets import fashion_mnist\n",
    "\n",
    "(X_train, y_train), (X_test, y_test) = fashion_mnist.load_data()"
   ]
  },
  {
   "cell_type": "code",
   "execution_count": 94,
   "metadata": {
    "colab": {
     "base_uri": "https://localhost:8080/"
    },
    "id": "IyxDg8uuy9AL",
    "outputId": "d236ff5e-a92d-4109-b0ab-f904714512af"
   },
   "outputs": [
    {
     "name": "stdout",
     "output_type": "stream",
     "text": [
      "There are  60000 images in the training dataset\n",
      "There are  10000 images in the test dataset\n"
     ]
    }
   ],
   "source": [
    "# Checking the length of X_train and X_test\n",
    "\n",
    "print(\"There are \", len(X_train), \"images in the training dataset\")     \n",
    "print(\"There are \", len(X_test), \"images in the test dataset\")"
   ]
  },
  {
   "cell_type": "code",
   "execution_count": 4,
   "metadata": {
    "colab": {
     "base_uri": "https://localhost:8080/"
    },
    "id": "tDCVsH5py9AL",
    "outputId": "12998eb6-493c-4ac9-b8fd-3536845dea59"
   },
   "outputs": [
    {
     "data": {
      "text/plain": [
       "(28, 28)"
      ]
     },
     "execution_count": 4,
     "metadata": {},
     "output_type": "execute_result"
    }
   ],
   "source": [
    "# Checking the shape of one image\n",
    "\n",
    "X_train[5].shape # 1 channel as it is grey scale"
   ]
  },
  {
   "cell_type": "code",
   "execution_count": 5,
   "metadata": {
    "colab": {
     "base_uri": "https://localhost:8080/"
    },
    "id": "9kD0RbYb931I",
    "outputId": "cb71a841-8305-41eb-e855-0e072f05fc50"
   },
   "outputs": [
    {
     "data": {
      "text/plain": [
       "array([[  0,   0,   0,   0,   1,   0,   0,   0,   0,  22,  88, 188, 172,\n",
       "        132, 125, 141, 199, 143,   9,   0,   0,   0,   1,   0,   0,   0,\n",
       "          0,   0],\n",
       "       [  0,   0,   0,   1,   0,   0,  20, 131, 199, 206, 196, 202, 242,\n",
       "        255, 255, 250, 222, 197, 206, 188, 126,  17,   0,   0,   0,   0,\n",
       "          0,   0],\n",
       "       [  0,   0,   0,   1,   0,  35, 214, 191, 183, 178, 175, 168, 150,\n",
       "        162, 159, 152, 158, 179, 183, 189, 195, 185,  82,   0,   0,   0,\n",
       "          0,   0],\n",
       "       [  0,   0,   0,   0,   0, 170, 190, 172, 177, 176, 171, 169, 162,\n",
       "        155, 148, 154, 169, 174, 175, 175, 177, 183, 188,  12,   0,   0,\n",
       "          0,   0],\n",
       "       [  0,   0,   0,   0,  25, 194, 180, 178, 174, 184, 187, 189, 187,\n",
       "        184, 181, 189, 200, 197, 193, 190, 178, 175, 194,  90,   0,   0,\n",
       "          0,   0],\n",
       "       [  0,   0,   0,   0,  42, 218, 191, 197, 208, 204, 211, 209, 210,\n",
       "        212, 211, 214, 215, 213, 214, 211, 211, 191, 200, 158,   0,   0,\n",
       "          0,   0],\n",
       "       [  0,   0,   0,   0,  88, 221, 215, 217, 219, 211, 185, 150, 118,\n",
       "        107,  99,  88,  83,  90, 135, 212, 203, 207, 219, 169,   0,   0,\n",
       "          0,   0],\n",
       "       [  0,   0,   0,   0,   0,  27, 118, 162,  40,   0,   0,   0,  10,\n",
       "         19,  28,  39,  47,  36,   0,   0, 203, 230, 220, 203,   0,   0,\n",
       "          0,   0],\n",
       "       [  0,   0,   0,   0, 138, 136,  71,  69,  54, 216, 217, 203, 184,\n",
       "        168, 163, 162, 163, 178, 221, 186,  38,  26,   7,   0,   0,   0,\n",
       "          0,   0],\n",
       "       [  0,   0,   0,   0,  67, 134, 154, 224, 129,  66,  81, 117, 129,\n",
       "        128, 132, 137, 131, 129,  86,  73, 157, 151, 134, 216,  18,   0,\n",
       "          0,   0],\n",
       "       [  0,   0,   0,   0, 203, 198, 172, 183, 206, 255, 255, 250, 243,\n",
       "        240, 239, 235, 238, 244, 255, 238, 184, 160,  86,  98,   0,   0,\n",
       "          0,   0],\n",
       "       [  0,   0,   0,   0, 122, 188, 224, 151, 105, 127,  97, 100, 105,\n",
       "        114, 117, 117, 113, 103,  98, 111, 142, 254, 191, 255,  49,   0,\n",
       "          0,   0],\n",
       "       [  0,   0,   0,   0, 163, 179, 200,  95, 154, 198, 197, 200, 200,\n",
       "        198, 197, 198, 199, 202, 200, 176,  86, 206, 157, 162,  10,   0,\n",
       "          0,   0],\n",
       "       [  0,   0,   0,   0, 197, 201, 229,  71, 144, 194, 181, 183, 179,\n",
       "        182, 180, 179, 180, 190, 185, 197,  76, 219, 185, 201,  34,   0,\n",
       "          0,   0],\n",
       "       [  0,   0,   0,   0, 199, 193, 226,  58, 154, 192, 184, 187, 184,\n",
       "        186, 184, 185, 183, 192, 191, 200,  56, 219, 203, 207,  60,   0,\n",
       "          0,   0],\n",
       "       [  0,   0,   0,   0, 201, 194, 224,  41, 163, 190, 186, 186, 184,\n",
       "        185, 183, 185, 178, 190, 194, 202,  33, 211, 200, 206,  73,   0,\n",
       "          0,   0],\n",
       "       [  0,   0,   0,   0, 201, 197, 222,  17, 172, 190, 186, 187, 182,\n",
       "        186, 185, 187, 180, 187, 193, 202,  26, 212, 202, 203,  76,   0,\n",
       "          0,   0],\n",
       "       [  0,   0,   0,   0, 200, 197, 223,   0, 177, 189, 184, 185, 178,\n",
       "        184, 183, 184, 180, 183, 189, 203,  35, 196, 203, 203,  84,   0,\n",
       "          0,   0],\n",
       "       [  0,   0,   0,   0, 200, 197, 223,   0, 185, 187, 185, 187, 180,\n",
       "        184, 182, 183, 178, 182, 183, 205,  44, 159, 207, 201,  85,   0,\n",
       "          0,   0],\n",
       "       [  0,   0,   0,   0, 187, 198, 225,   0, 194, 188, 184, 185, 180,\n",
       "        183, 183, 184, 181, 181, 177, 206,  46, 129, 211, 200,  88,   0,\n",
       "          0,   0],\n",
       "       [  0,   0,   0,   6, 186, 200, 211,   0, 199, 189, 184, 184, 185,\n",
       "        182, 183, 184, 185, 182, 175, 205,  50,  97, 216, 197,  93,   0,\n",
       "          0,   0],\n",
       "       [  0,   0,   0,   5, 185, 204, 184,   0, 202, 188, 182, 182, 183,\n",
       "        183, 184, 182, 180, 182, 174, 202,  63,  59, 220, 196,  94,   0,\n",
       "          0,   0],\n",
       "       [  0,   0,   0,   5, 184, 206, 157,   0, 204, 187, 187, 189, 192,\n",
       "        190, 190, 191, 190, 187, 183, 202,  78,  35, 222, 197,  95,   0,\n",
       "          0,   0],\n",
       "       [  0,   0,   0,   5, 183, 208, 127,   0, 197, 166, 153, 149, 149,\n",
       "        146, 148, 149, 150, 151, 158, 191,  90,   8, 223, 195,  99,   0,\n",
       "          0,   0],\n",
       "       [  0,   0,   0,   6, 184, 208, 114,   0, 204, 173, 161, 180, 176,\n",
       "        172, 173, 173, 174, 176, 162, 202, 115,   0, 229, 199, 105,   0,\n",
       "          0,   0],\n",
       "       [  0,   0,   0,   9, 178, 204, 115,   0, 121, 135, 114, 117, 114,\n",
       "        114, 117, 118, 119, 117, 113, 147,  63,   0, 225, 196, 107,   0,\n",
       "          0,   0],\n",
       "       [  0,   0,   0,  18, 180, 206, 131,   0,   0,   0,   0,   0,   0,\n",
       "          0,   0,   0,   0,   0,   0,   0,   0,   0, 224, 197, 123,   0,\n",
       "          0,   0],\n",
       "       [  0,   0,   0,   0, 141, 151,  76,   0,   1,   1,   0,   0,   0,\n",
       "          0,   0,   0,   0,   0,   0,   0,   0,   0, 133, 167,  73,   0,\n",
       "          0,   0]], dtype=uint8)"
      ]
     },
     "execution_count": 5,
     "metadata": {},
     "output_type": "execute_result"
    }
   ],
   "source": [
    "X_train[5]"
   ]
  },
  {
   "cell_type": "markdown",
   "metadata": {
    "id": "FzMZOUory9AM"
   },
   "source": [
    "**TASK 2: Use matplotlib to view an image from the data set. It can be any image from the data set.**"
   ]
  },
  {
   "cell_type": "code",
   "execution_count": 6,
   "metadata": {
    "colab": {
     "base_uri": "https://localhost:8080/",
     "height": 391
    },
    "id": "Q0b8GXg0-Gss",
    "outputId": "7d73dadd-b399-45b8-a90f-1b38fdfc84de"
   },
   "outputs": [
    {
     "data": {
      "text/plain": [
       "<matplotlib.image.AxesImage at 0x1d6ab208128>"
      ]
     },
     "execution_count": 6,
     "metadata": {},
     "output_type": "execute_result"
    },
    {
     "data": {
      "image/png": "[encoded data removed]",
      "text/plain": [
       "<Figure size 720x432 with 1 Axes>"
      ]
     },
     "metadata": {},
     "output_type": "display_data"
    }
   ],
   "source": [
    "# Plot image for X_train[5]\n",
    "\n",
    "plt.imshow(X_train[5])"
   ]
  },
  {
   "cell_type": "code",
   "execution_count": 7,
   "metadata": {
    "colab": {
     "base_uri": "https://localhost:8080/"
    },
    "id": "ABYJBAII-PZq",
    "outputId": "e08be495-d764-4edc-f717-bff385af66aa"
   },
   "outputs": [
    {
     "data": {
      "text/plain": [
       "2"
      ]
     },
     "execution_count": 7,
     "metadata": {},
     "output_type": "execute_result"
    }
   ],
   "source": [
    "# Checking the y value for X_train[5]\n",
    "\n",
    "y_train[5]"
   ]
  },
  {
   "cell_type": "code",
   "execution_count": 8,
   "metadata": {
    "colab": {
     "base_uri": "https://localhost:8080/"
    },
    "id": "4fFJg0go-Y4f",
    "outputId": "f1502bb0-a010-43b4-a9b2-ee86871cdf00"
   },
   "outputs": [
    {
     "data": {
      "text/plain": [
       "(60000,)"
      ]
     },
     "execution_count": 8,
     "metadata": {},
     "output_type": "execute_result"
    }
   ],
   "source": [
    "# Checking the shape of y_train\n",
    "\n",
    "y_train.shape"
   ]
  },
  {
   "cell_type": "code",
   "execution_count": 9,
   "metadata": {
    "colab": {
     "base_uri": "https://localhost:8080/"
    },
    "id": "1CFgCmOX-Y1x",
    "outputId": "89e26ea6-ef7b-4063-c95f-f15592fab84a"
   },
   "outputs": [
    {
     "data": {
      "text/plain": [
       "array([9, 0, 0, ..., 3, 0, 5], dtype=uint8)"
      ]
     },
     "execution_count": 9,
     "metadata": {},
     "output_type": "execute_result"
    }
   ],
   "source": [
    "# Checking the values of y_train\n",
    "\n",
    "y_train"
   ]
  },
  {
   "cell_type": "code",
   "execution_count": 10,
   "metadata": {
    "colab": {
     "base_uri": "https://localhost:8080/"
    },
    "id": "-h8Q_S3G-Yyf",
    "outputId": "5ef8c5a2-6ea9-4a23-92a7-20bffb71f531"
   },
   "outputs": [
    {
     "data": {
      "text/plain": [
       "(array([0, 1, 2, 3, 4, 5, 6, 7, 8, 9], dtype=uint8),\n",
       " array([6000, 6000, 6000, 6000, 6000, 6000, 6000, 6000, 6000, 6000],\n",
       "       dtype=int64))"
      ]
     },
     "execution_count": 10,
     "metadata": {},
     "output_type": "execute_result"
    }
   ],
   "source": [
    "# Checking the unique values of y_train to determine the number of classes\n",
    "\n",
    "np.unique(y_train, return_counts=True)"
   ]
  },
  {
   "cell_type": "code",
   "execution_count": 11,
   "metadata": {
    "id": "PhIOCRCiy9AM"
   },
   "outputs": [],
   "source": [
    "# Defining class names based on images\n",
    "\n",
    "classes=[\"T-shirt/top\", \"Trouser\", \"Pullover\",\"Dress\",\"Coat\",\"Sandal\",\"Shirt\",\"Sneaker\",\"Bag\",\"Ankle boot\"]"
   ]
  },
  {
   "cell_type": "code",
   "execution_count": 12,
   "metadata": {
    "colab": {
     "base_uri": "https://localhost:8080/"
    },
    "id": "LhbAHTK2y9AN",
    "outputId": "6a61ef9f-2096-4c5c-9935-83b8eaa0be46"
   },
   "outputs": [
    {
     "data": {
      "text/plain": [
       "9"
      ]
     },
     "execution_count": 12,
     "metadata": {},
     "output_type": "execute_result"
    }
   ],
   "source": [
    "# Checking the class number of y_train[0]\n",
    "\n",
    "y_train[0]"
   ]
  },
  {
   "cell_type": "code",
   "execution_count": 13,
   "metadata": {
    "colab": {
     "base_uri": "https://localhost:8080/",
     "height": 391
    },
    "id": "SCUD7EUk_Ya5",
    "outputId": "70f04eda-cda1-4bda-fb70-1963403bf492"
   },
   "outputs": [
    {
     "data": {
      "text/plain": [
       "<matplotlib.image.AxesImage at 0x1d6ab8b8710>"
      ]
     },
     "execution_count": 13,
     "metadata": {},
     "output_type": "execute_result"
    },
    {
     "data": {
      "image/png": "[encoded data removed]",
      "text/plain": [
       "<Figure size 720x432 with 1 Axes>"
      ]
     },
     "metadata": {},
     "output_type": "display_data"
    }
   ],
   "source": [
    "# Plotting the images for y_train[0]\n",
    "\n",
    "plt.imshow(X_train[0], cmap=\"Greys_r\")"
   ]
  },
  {
   "cell_type": "code",
   "execution_count": 14,
   "metadata": {
    "colab": {
     "base_uri": "https://localhost:8080/",
     "height": 35
    },
    "id": "Kjjvwrdiy9AN",
    "outputId": "ba16df20-464a-46ed-f241-ee1c3bd805f4"
   },
   "outputs": [
    {
     "data": {
      "text/plain": [
       "'Ankle boot'"
      ]
     },
     "execution_count": 14,
     "metadata": {},
     "output_type": "execute_result"
    }
   ],
   "source": [
    "# Checking the classes for y_train[0]\n",
    "\n",
    "classes[y_train[0]]"
   ]
  },
  {
   "cell_type": "code",
   "execution_count": 15,
   "metadata": {
    "colab": {
     "base_uri": "https://localhost:8080/"
    },
    "id": "ZAOU8y7GBWY4",
    "outputId": "8d4db0e8-30d9-4920-9557-49b886b8096b",
    "scrolled": true
   },
   "outputs": [
    {
     "data": {
      "text/plain": [
       "array([[  0,   0,   0,   0,   0,   0,   0,   0,   0,  53, 146, 127, 115,\n",
       "        111, 130, 129, 100, 147, 169, 190,   0,   0,   0,   0,   0,   0,\n",
       "          0,   0],\n",
       "       [  0,   0,   0,   0,   0,   0,   0,   0,   0, 117, 190, 188, 221,\n",
       "        234, 254, 236, 221, 205, 186, 222,   0,   0,   0,   0,   0,   0,\n",
       "          0,   0],\n",
       "       [  0,   0,   0,   0,   0,   0,   0,   0,   0, 127, 156, 175, 193,\n",
       "        195, 195, 202, 203, 187, 168, 228,  32,   0,   0,   0,   0,   0,\n",
       "          0,   0],\n",
       "       [  0,   0,   0,   0,   0,   0,   0,   0,   0, 165, 186, 198, 209,\n",
       "        219, 198, 205, 211, 201, 189, 233,  94,   0,   0,   0,   0,   0,\n",
       "          0,   0],\n",
       "       [  0,   0,   0,   0,   0,   0,   0,   0,   0, 185, 199, 210, 225,\n",
       "        207, 201, 207, 221, 210, 208, 236, 111,   0,   0,   0,   0,   0,\n",
       "          0,   0],\n",
       "       [  0,   0,   0,   0,   0,   0,   0,   0,   0, 200, 175, 172, 215,\n",
       "        224, 216, 216, 223, 210, 198, 237, 152,   0,   0,   0,   0,   0,\n",
       "          0,   0],\n",
       "       [  0,   0,   0,   0,   0,   0,   0,   0,   7, 213, 156, 151, 171,\n",
       "        187, 215, 227, 212, 200, 178, 215, 177,   0,   0,   0,   0,   0,\n",
       "          0,   0],\n",
       "       [  0,   0,   0,   0,   0,   0,   0,   0,  25, 201, 136, 156, 178,\n",
       "        198, 213, 235, 168, 166, 163, 207, 178,   0,   0,   0,   0,   0,\n",
       "          0,   0],\n",
       "       [  0,   0,   0,   0,   0,   0,   0,   0,  42, 195, 134, 162, 171,\n",
       "        201,   1, 229, 198, 166, 154, 193, 173,   0,   0,   0,   0,   0,\n",
       "          0,   0],\n",
       "       [  0,   0,   0,   0,   0,   0,   0,   0,  50, 184, 134, 167, 184,\n",
       "        181,   0, 213, 190, 197, 179, 189, 179,   0,   0,   0,   0,   0,\n",
       "          0,   0],\n",
       "       [  0,   0,   0,   0,   0,   0,   0,   0,  49, 175, 134, 169, 169,\n",
       "        211,   0, 196, 178, 153, 183, 196, 176,   0,   0,   0,   0,   0,\n",
       "          0,   0],\n",
       "       [  0,   0,   0,   0,   0,   0,   0,   0,  50, 173, 134, 167, 174,\n",
       "        223,   0, 161, 208, 140, 172, 198, 173,   0,   0,   0,   0,   0,\n",
       "          0,   0],\n",
       "       [  0,   0,   0,   0,   0,   0,   0,   0,  49, 169, 125, 158, 187,\n",
       "        213,   0, 124, 219, 132, 149, 198, 176,   0,   0,   0,   0,   0,\n",
       "          0,   0],\n",
       "       [  0,   0,   0,   0,   0,   0,   0,   0,  49, 168, 128, 150, 192,\n",
       "        197,   0,  82, 219, 152, 153, 177, 175,   0,   0,   0,   0,   0,\n",
       "          0,   0],\n",
       "       [  0,   0,   0,   0,   0,   0,   0,   0,  50, 174, 136, 144, 190,\n",
       "        185,   0,  29, 221, 155, 153, 184, 174,   0,   0,   0,   0,   0,\n",
       "          0,   0],\n",
       "       [  0,   0,   0,   0,   0,   0,   0,   0,  53, 175, 140, 161, 191,\n",
       "        143,   0,  13, 221, 154, 156, 184, 173,   0,   0,   0,   0,   0,\n",
       "          0,   0],\n",
       "       [  0,   0,   0,   0,   0,   0,   0,   0,  58, 184, 122, 166, 198,\n",
       "        115,   0,   0, 217, 158, 160, 180, 167,   0,   0,   0,   0,   0,\n",
       "          0,   0],\n",
       "       [  0,   0,   0,   0,   0,   0,   0,   0,  58, 204, 111, 172, 203,\n",
       "         79,   0,   0, 204, 164, 155, 188, 169,   0,   0,   0,   0,   0,\n",
       "          0,   0],\n",
       "       [  0,   0,   0,   0,   0,   0,   0,   0,  55, 214, 138, 177, 209,\n",
       "         41,   0,   0, 186, 180, 152, 187, 168,   0,   0,   0,   0,   0,\n",
       "          0,   0],\n",
       "       [  0,   0,   0,   0,   0,   0,   0,   0,  55, 214, 149, 177, 210,\n",
       "         23,   0,   0, 158, 199, 173, 192, 163,   0,   0,   0,   0,   0,\n",
       "          0,   0],\n",
       "       [  0,   0,   0,   0,   0,   0,   0,   0,  55, 216, 159, 187, 204,\n",
       "          6,   0,   0, 136, 198, 189, 208, 165,   0,   0,   0,   0,   0,\n",
       "          0,   0],\n",
       "       [  0,   0,   0,   0,   0,   0,   0,   0,  55, 212, 161, 197, 191,\n",
       "          0,   0,   0, 118, 192, 185, 214, 161,   0,   0,   0,   0,   0,\n",
       "          0,   0],\n",
       "       [  0,   0,   0,   0,   0,   0,   0,   0,  63, 201, 162, 207, 171,\n",
       "          0,   0,   0,  86, 197, 184, 214, 156,   0,   0,   0,   0,   0,\n",
       "          0,   0],\n",
       "       [  0,   0,   0,   0,   0,   0,   0,   0,  68, 197, 168, 213, 155,\n",
       "          0,   0,   0,  64, 196, 183, 219, 154,   0,   0,   0,   0,   0,\n",
       "          0,   0],\n",
       "       [  0,   0,   0,   0,   0,   0,   0,   0,  73, 193, 168, 215, 146,\n",
       "          0,   1,   0,  56, 190, 180, 205, 146,   0,   0,   0,   0,   0,\n",
       "          0,   0],\n",
       "       [  0,   0,   0,   0,   0,   0,   0,   0,  73, 176, 168, 204, 137,\n",
       "          0,   3,   0,  37, 186, 179, 204, 138,   0,   0,   0,   0,   0,\n",
       "          0,   0],\n",
       "       [  0,   0,   0,   0,   0,   0,   0,   0,  94, 197, 178, 212, 129,\n",
       "          0,   5,   0,  32, 193, 185, 210, 150,   0,   0,   0,   0,   0,\n",
       "          0,   0],\n",
       "       [  0,   0,   0,   0,   0,   0,   0,   0,  49, 122, 126, 160,  65,\n",
       "          0,   3,   0,   8, 156, 173, 188, 107,   0,   0,   0,   0,   0,\n",
       "          0,   0]], dtype=uint8)"
      ]
     },
     "execution_count": 15,
     "metadata": {},
     "output_type": "execute_result"
    }
   ],
   "source": [
    "# Checking the pixel values of first images for y_train values 1\n",
    "\n",
    "X_train[y_train == 1][0]"
   ]
  },
  {
   "cell_type": "code",
   "execution_count": 16,
   "metadata": {
    "colab": {
     "base_uri": "https://localhost:8080/",
     "height": 391
    },
    "id": "H2RdSos8Bstb",
    "outputId": "899efad4-5d11-4c7c-f375-65c9159fd145"
   },
   "outputs": [
    {
     "data": {
      "text/plain": [
       "<matplotlib.image.AxesImage at 0x1d6ab91f400>"
      ]
     },
     "execution_count": 16,
     "metadata": {},
     "output_type": "execute_result"
    },
    {
     "data": {
      "image/png": "[encoded data removed]",
      "text/plain": [
       "<Figure size 720x432 with 1 Axes>"
      ]
     },
     "metadata": {},
     "output_type": "display_data"
    }
   ],
   "source": [
    "# plot first image for y_train value 5\n",
    "\n",
    "plt.imshow(X_train[y_train == 5][0])"
   ]
  },
  {
   "cell_type": "code",
   "execution_count": 17,
   "metadata": {
    "colab": {
     "base_uri": "https://localhost:8080/",
     "height": 304
    },
    "id": "XdVwjfHiy9AN",
    "outputId": "f93f1f62-8524-46ee-eb1e-0c910a1fc451"
   },
   "outputs": [
    {
     "data": {
      "image/png": "[encoded data removed]",
      "text/plain": [
       "<Figure size 720x720 with 10 Axes>"
      ]
     },
     "metadata": {},
     "output_type": "display_data"
    }
   ],
   "source": [
    "# Plot images of each class in y_train to determine class names\n",
    "\n",
    "plt.figure(figsize=(10,10))\n",
    "for i in range(0, 10):\n",
    "    plt.subplot(5, 5, i+1)  \n",
    "    plt.imshow(X_train[y_train == i][3], cmap=plt.cm.binary)\n",
    "    plt.title(f\"Class Label : {i}\")\n",
    "    plt.xticks([])\n",
    "    plt.yticks([])\n",
    "    plt.grid(False)\n",
    "    plt.tight_layout()"
   ]
  },
  {
   "cell_type": "code",
   "execution_count": 18,
   "metadata": {
    "id": "hZ92N9OkD-C2"
   },
   "outputs": [],
   "source": [
    "# As it is seen from the images above we can define classes as follows\n",
    "\n",
    "classes=[\"T-shirt/top\", \"Trouser\", \"Pullover\", \"Dress\", \"Coat\", \"Sandal\", \"Shirt\", \"Sneaker\", \"Bag\", \"Ankle boot\"]"
   ]
  },
  {
   "cell_type": "code",
   "execution_count": 19,
   "metadata": {
    "colab": {
     "base_uri": "https://localhost:8080/",
     "height": 589
    },
    "id": "9wKNsC39B7k9",
    "outputId": "cdfd662c-e4fa-4ec7-fb01-e2dee1400789"
   },
   "outputs": [
    {
     "data": {
      "image/png": "[encoded data removed]",
      "text/plain": [
       "<Figure size 720x720 with 25 Axes>"
      ]
     },
     "metadata": {},
     "output_type": "display_data"
    }
   ],
   "source": [
    "# plot first 25 images from X_train\n",
    "\n",
    "plt.figure(figsize=(10,10))\n",
    "for i in range(25):\n",
    "    plt.subplot(5,5,i+1)\n",
    "    plt.xticks([])\n",
    "    plt.yticks([])\n",
    "    plt.grid(False)\n",
    "    plt.imshow(X_train[i] / 255.0, cmap=plt.cm.binary)\n",
    "    plt.xlabel(classes[y_train[i]])\n",
    "plt.show()"
   ]
  },
  {
   "cell_type": "markdown",
   "metadata": {
    "id": "zokrmsrky9AN"
   },
   "source": [
    "# Data Preprocessing\n",
    "\n",
    "**TASK 3: Normalize the X train and X test data by dividing by the max value of the image arrays.**"
   ]
  },
  {
   "cell_type": "code",
   "execution_count": 20,
   "metadata": {
    "colab": {
     "base_uri": "https://localhost:8080/"
    },
    "id": "ice54NqJy9AO",
    "outputId": "2b5a6890-1706-4deb-f8d8-6e141c497c68"
   },
   "outputs": [
    {
     "data": {
      "text/plain": [
       "0"
      ]
     },
     "execution_count": 20,
     "metadata": {},
     "output_type": "execute_result"
    }
   ],
   "source": [
    "# Checking the min value of X_train to decide making normalization\n",
    "\n",
    "X_train[5].min()"
   ]
  },
  {
   "cell_type": "code",
   "execution_count": 21,
   "metadata": {
    "colab": {
     "base_uri": "https://localhost:8080/"
    },
    "id": "gf0BWu4Ry9AO",
    "outputId": "a7d18672-b6ec-4324-e518-f43a51801c35"
   },
   "outputs": [
    {
     "data": {
      "text/plain": [
       "255"
      ]
     },
     "execution_count": 21,
     "metadata": {},
     "output_type": "execute_result"
    }
   ],
   "source": [
    "# Checking the max value of X_train to decide making normalization\n",
    "\n",
    "X_train[5].max()"
   ]
  },
  {
   "cell_type": "code",
   "execution_count": 22,
   "metadata": {
    "id": "VwLOB9HTy9AO"
   },
   "outputs": [],
   "source": [
    "# Normalizing X_train and X_test values\n",
    "\n",
    "X_train = X_train.astype('float32')\n",
    "X_test = X_test.astype('float32')\n",
    "X_train /= 255\n",
    "X_test /= 255"
   ]
  },
  {
   "cell_type": "code",
   "execution_count": 23,
   "metadata": {
    "colab": {
     "base_uri": "https://localhost:8080/"
    },
    "id": "QeZnXo4qFoRz",
    "outputId": "77017e1f-b406-43f0-b5e2-1dd715746576"
   },
   "outputs": [
    {
     "data": {
      "text/plain": [
       "0.0"
      ]
     },
     "execution_count": 23,
     "metadata": {},
     "output_type": "execute_result"
    }
   ],
   "source": [
    "# Checking the min value of X_train after normalization\n",
    "\n",
    "X_train[5].min()"
   ]
  },
  {
   "cell_type": "code",
   "execution_count": 24,
   "metadata": {
    "colab": {
     "base_uri": "https://localhost:8080/"
    },
    "id": "ZFLw2tuWFcn-",
    "outputId": "13ae30ad-9314-4322-9ca5-3d58555ddb4f"
   },
   "outputs": [
    {
     "data": {
      "text/plain": [
       "1.0"
      ]
     },
     "execution_count": 24,
     "metadata": {},
     "output_type": "execute_result"
    }
   ],
   "source": [
    "# Checking the max value of X_train after normalization\n",
    "\n",
    "X_train[5].max()"
   ]
  },
  {
   "cell_type": "code",
   "execution_count": 25,
   "metadata": {
    "colab": {
     "base_uri": "https://localhost:8080/",
     "height": 391
    },
    "id": "50Mj4jtTHoD8",
    "outputId": "8fad62ee-d855-4ea6-d842-542db2892db0"
   },
   "outputs": [
    {
     "data": {
      "text/plain": [
       "<matplotlib.image.AxesImage at 0x1d6ac23e9e8>"
      ]
     },
     "execution_count": 25,
     "metadata": {},
     "output_type": "execute_result"
    },
    {
     "data": {
      "image/png": "[encoded data removed]",
      "text/plain": [
       "<Figure size 720x432 with 1 Axes>"
      ]
     },
     "metadata": {},
     "output_type": "display_data"
    }
   ],
   "source": [
    "# plot X_train[5] image after normalization\n",
    "\n",
    "plt.imshow(X_train[5])"
   ]
  },
  {
   "cell_type": "markdown",
   "metadata": {
    "id": "Rlm0Ic1Cy9AO"
   },
   "source": [
    "**Task 4: Reshape the X arrays to include a 4 dimension of the single channel. Similar to what we did for the numbers MNIST data set.**"
   ]
  },
  {
   "cell_type": "code",
   "execution_count": 102,
   "metadata": {
    "colab": {
     "base_uri": "https://localhost:8080/"
    },
    "id": "IyGIYAdMy9AO",
    "outputId": "7ef38557-1408-474a-ad3e-4936585ba20b"
   },
   "outputs": [
    {
     "data": {
      "text/plain": [
       "(60000, 28, 28, 1)"
      ]
     },
     "execution_count": 102,
     "metadata": {},
     "output_type": "execute_result"
    }
   ],
   "source": [
    "# Before building model we need to reshape of train and test data because CNN model needs it \n",
    "\n",
    "X_train.reshape(60000, 28, 28, 1).shape"
   ]
  },
  {
   "cell_type": "code",
   "execution_count": 103,
   "metadata": {
    "id": "LI7-_8L2y9AP"
   },
   "outputs": [],
   "source": [
    "# Reshaping train and test data\n",
    "\n",
    "X_train = X_train.reshape(X_train.shape[0],28, 28, 1) \n",
    "X_test = X_test.reshape(X_test.shape[0], 28, 28, 1)"
   ]
  },
  {
   "cell_type": "markdown",
   "metadata": {
    "id": "huKVg6Tqy9AP"
   },
   "source": [
    "**TASK 5: Convert the y_train and y_test values to be one-hot encoded for categorical analysis by Keras.**"
   ]
  },
  {
   "cell_type": "code",
   "execution_count": 104,
   "metadata": {
    "id": "uI8lvIA-y9AP"
   },
   "outputs": [],
   "source": [
    "# as we have multiclass label we should apply one-hot encoding to y_label with tensorflow to_categorical method\n",
    "\n",
    "from tensorflow.keras.utils import to_categorical"
   ]
  },
  {
   "cell_type": "code",
   "execution_count": 105,
   "metadata": {
    "colab": {
     "base_uri": "https://localhost:8080/"
    },
    "id": "Nb3SxrCJy9AP",
    "outputId": "607b79f8-a561-4479-bd7a-8c288e03ccf0"
   },
   "outputs": [
    {
     "data": {
      "text/plain": [
       "(10000, 10)"
      ]
     },
     "execution_count": 105,
     "metadata": {},
     "output_type": "execute_result"
    }
   ],
   "source": [
    "Y_train = to_categorical(y_train, 10)\n",
    "Y_test = to_categorical(y_test, 10)\n",
    "Y_test.shape"
   ]
  },
  {
   "cell_type": "code",
   "execution_count": 106,
   "metadata": {
    "colab": {
     "base_uri": "https://localhost:8080/"
    },
    "id": "VW-QJTFUy9AP",
    "outputId": "950bfc1e-6a8b-4ca3-890d-f84fd39f77ac"
   },
   "outputs": [
    {
     "data": {
      "text/plain": [
       "array([0., 0., 0., 0., 0., 0., 0., 0., 0., 1.], dtype=float32)"
      ]
     },
     "execution_count": 106,
     "metadata": {},
     "output_type": "execute_result"
    }
   ],
   "source": [
    "Y_train[0]"
   ]
  },
  {
   "cell_type": "markdown",
   "metadata": {
    "id": "sDabtwBuy9AQ"
   },
   "source": [
    "# Modeling"
   ]
  },
  {
   "cell_type": "markdown",
   "metadata": {
    "id": "4BGuGIX_y9AQ"
   },
   "source": [
    "## Create the model\n",
    "\n",
    "**TASK 5: Use Keras to create a model consisting of at least the following layers (but feel free to experiment):**\n",
    "\n",
    "* 2D Convolutional Layer, filters=28 and kernel_size=(3,3)\n",
    "* Pooling Layer where pool_size = (2,2) strides=(1,1)\n",
    "\n",
    "* Flatten Layer\n",
    "* Dense Layer (128 Neurons, but feel free to play around with this value), RELU activation\n",
    "\n",
    "* Final Dense Layer of 10 Neurons with a softmax activation\n",
    "\n",
    "**Then compile the model with these parameters: loss='categorical_crossentropy', optimizer='rmsprop', metrics=['accuracy']**"
   ]
  },
  {
   "cell_type": "code",
   "execution_count": 98,
   "metadata": {
    "id": "QeKKvy-Yy9AQ"
   },
   "outputs": [],
   "source": [
    "from tensorflow.keras.models import Sequential\n",
    "from tensorflow.keras.layers import Dense, Conv2D, MaxPool2D, Flatten, Dropout, BatchNormalization "
   ]
  },
  {
   "cell_type": "code",
   "execution_count": 107,
   "metadata": {
    "id": "hIqfADR0JtO_"
   },
   "outputs": [],
   "source": [
    "# defining image shape \n",
    "\n",
    "img_shape = X_train[0].shape"
   ]
  },
  {
   "cell_type": "markdown",
   "metadata": {
    "id": "TUAFZJDNbYVw"
   },
   "source": [
    "## MODEL 1"
   ]
  },
  {
   "cell_type": "code",
   "execution_count": 33,
   "metadata": {
    "id": "xG1rG30XJf0V"
   },
   "outputs": [
    {
     "name": "stdout",
     "output_type": "stream",
     "text": [
      "WARNING:tensorflow:From C:\\Users\\user\\anaconda3\\envs\\DL_env\\lib\\site-packages\\tensorflow_core\\python\\ops\\resource_variable_ops.py:1630: calling BaseResourceVariable.__init__ (from tensorflow.python.ops.resource_variable_ops) with constraint is deprecated and will be removed in a future version.\n",
      "Instructions for updating:\n",
      "If using Keras pass *_constraint arguments to layers.\n"
     ]
    }
   ],
   "source": [
    "# building CNN model\n",
    "\n",
    "model = Sequential()\n",
    "\n",
    "model.add(Conv2D(filters=28, kernel_size=(3,3), input_shape=img_shape, activation='relu'))\n",
    "model.add(MaxPool2D(pool_size=(2, 2), strides=(1,1)))\n",
    "\n",
    "model.add(Conv2D(filters=64, kernel_size=(3,3), input_shape=img_shape, activation='relu'))\n",
    "model.add(MaxPool2D(pool_size=(2, 2), strides=(1,1)))\n",
    "\n",
    "model.add(Conv2D(filters=28, kernel_size=(3,3), input_shape=img_shape, activation='relu'))\n",
    "model.add(MaxPool2D(pool_size=(2, 2), strides=(1,1)))\n",
    "\n",
    "model.add(Flatten())\n",
    "\n",
    "model.add(Dense(128, activation='relu'))\n",
    "\n",
    "model.add(Dense(64, activation='relu'))\n",
    "\n",
    "model.add(Dense(10, activation='softmax'))\n",
    "\n",
    "model.compile(loss='categorical_crossentropy', optimizer='rmsprop', metrics=['accuracy'])"
   ]
  },
  {
   "cell_type": "code",
   "execution_count": 34,
   "metadata": {
    "colab": {
     "base_uri": "https://localhost:8080/"
    },
    "id": "J-AT7UO2JfkZ",
    "outputId": "9046dd90-371b-48cc-e0eb-8501cbc26ebe"
   },
   "outputs": [
    {
     "name": "stdout",
     "output_type": "stream",
     "text": [
      "Model: \"sequential\"\n",
      "_________________________________________________________________\n",
      "Layer (type)                 Output Shape              Param #   \n",
      "=================================================================\n",
      "conv2d (Conv2D)              (None, 26, 26, 28)        280       \n",
      "_________________________________________________________________\n",
      "max_pooling2d (MaxPooling2D) (None, 25, 25, 28)        0         \n",
      "_________________________________________________________________\n",
      "conv2d_1 (Conv2D)            (None, 23, 23, 64)        16192     \n",
      "_________________________________________________________________\n",
      "max_pooling2d_1 (MaxPooling2 (None, 22, 22, 64)        0         \n",
      "_________________________________________________________________\n",
      "conv2d_2 (Conv2D)            (None, 20, 20, 28)        16156     \n",
      "_________________________________________________________________\n",
      "max_pooling2d_2 (MaxPooling2 (None, 19, 19, 28)        0         \n",
      "_________________________________________________________________\n",
      "flatten (Flatten)            (None, 10108)             0         \n",
      "_________________________________________________________________\n",
      "dense (Dense)                (None, 128)               1293952   \n",
      "_________________________________________________________________\n",
      "dense_1 (Dense)              (None, 64)                8256      \n",
      "_________________________________________________________________\n",
      "dense_2 (Dense)              (None, 10)                650       \n",
      "=================================================================\n",
      "Total params: 1,335,486\n",
      "Trainable params: 1,335,486\n",
      "Non-trainable params: 0\n",
      "_________________________________________________________________\n"
     ]
    }
   ],
   "source": [
    "# checking the CNN model architecture and count of parameters\n",
    "\n",
    "parameter model.summary()"
   ]
  },
  {
   "cell_type": "markdown",
   "metadata": {
    "id": "zoq0pFpUy9AQ"
   },
   "source": [
    "##  Model Training \n",
    "\n",
    "**TASK 6: Train/Fit the model to the x_train set by using EarlyStop. Amount of epochs is up to you.**"
   ]
  },
  {
   "cell_type": "code",
   "execution_count": 97,
   "metadata": {
    "id": "Ma2WeyKvJfOz"
   },
   "outputs": [],
   "source": [
    "from tensorflow.keras.callbacks import EarlyStopping"
   ]
  },
  {
   "cell_type": "code",
   "execution_count": 36,
   "metadata": {
    "id": "Owgmr-QROqMl"
   },
   "outputs": [],
   "source": [
    "# defining early stop to prevent overfit\n",
    "\n",
    "early_stop = EarlyStopping(monitor='val_loss', patience=10, restore_best_weights = True)"
   ]
  },
  {
   "cell_type": "code",
   "execution_count": 37,
   "metadata": {
    "id": "nOKhPrGeJef8"
   },
   "outputs": [
    {
     "name": "stdout",
     "output_type": "stream",
     "text": [
      "Train on 60000 samples, validate on 10000 samples\n",
      "Epoch 1/50\n",
      "60000/60000 [==============================] - 37s 621us/sample - loss: 0.4201 - acc: 0.8477 - val_loss: 0.3215 - val_acc: 0.8841\n",
      "Epoch 2/50\n",
      "60000/60000 [==============================] - 37s 609us/sample - loss: 0.2828 - acc: 0.8987 - val_loss: 0.3059 - val_acc: 0.8890\n",
      "Epoch 3/50\n",
      "60000/60000 [==============================] - 36s 601us/sample - loss: 0.2565 - acc: 0.9082 - val_loss: 0.2940 - val_acc: 0.8993\n",
      "Epoch 4/50\n",
      "60000/60000 [==============================] - 37s 613us/sample - loss: 0.2394 - acc: 0.9164 - val_loss: 0.2531 - val_acc: 0.9096\n",
      "Epoch 5/50\n",
      "60000/60000 [==============================] - 36s 601us/sample - loss: 0.2307 - acc: 0.9204 - val_loss: 0.2775 - val_acc: 0.9066\n",
      "Epoch 6/50\n",
      "60000/60000 [==============================] - 36s 600us/sample - loss: 0.2306 - acc: 0.9218 - val_loss: 0.2812 - val_acc: 0.9073\n",
      "Epoch 7/50\n",
      "60000/60000 [==============================] - 36s 607us/sample - loss: 0.2275 - acc: 0.9226 - val_loss: 0.2878 - val_acc: 0.9068\n",
      "Epoch 8/50\n",
      "60000/60000 [==============================] - 37s 610us/sample - loss: 0.2288 - acc: 0.9234 - val_loss: 0.3866 - val_acc: 0.9047\n",
      "Epoch 9/50\n",
      "60000/60000 [==============================] - 37s 621us/sample - loss: 0.2326 - acc: 0.9233 - val_loss: 0.3463 - val_acc: 0.9035\n",
      "Epoch 10/50\n",
      "60000/60000 [==============================] - 37s 608us/sample - loss: 0.2423 - acc: 0.9226 - val_loss: 0.3005 - val_acc: 0.9048\n",
      "Epoch 11/50\n",
      "60000/60000 [==============================] - 38s 635us/sample - loss: 0.2425 - acc: 0.9221 - val_loss: 0.3224 - val_acc: 0.8962\n",
      "Epoch 12/50\n",
      "60000/60000 [==============================] - 43s 710us/sample - loss: 0.2499 - acc: 0.9202 - val_loss: 0.4253 - val_acc: 0.8935\n",
      "Epoch 13/50\n",
      "60000/60000 [==============================] - 44s 734us/sample - loss: 0.2554 - acc: 0.9198 - val_loss: 0.3639 - val_acc: 0.8996\n",
      "Epoch 14/50\n",
      "60000/60000 [==============================] - 44s 736us/sample - loss: 0.2637 - acc: 0.9183 - val_loss: 0.4274 - val_acc: 0.8638\n",
      "Wall time: 8min 56s\n"
     ]
    },
    {
     "data": {
      "text/plain": [
       "<tensorflow.python.keras.callbacks.History at 0x1d6ab91f438>"
      ]
     },
     "execution_count": 37,
     "metadata": {},
     "output_type": "execute_result"
    }
   ],
   "source": [
    "%%time\n",
    "model.fit(X_train, Y_train, batch_size=32, epochs=50, validation_data=(X_test,Y_test),callbacks=[early_stop])"
   ]
  },
  {
   "cell_type": "code",
   "execution_count": 39,
   "metadata": {
    "id": "TvgxHCjLJd6H"
   },
   "outputs": [],
   "source": [
    "# save model permanently and check\n",
    "\n",
    "model.save('fashion_mnist1.h5')"
   ]
  },
  {
   "cell_type": "code",
   "execution_count": 40,
   "metadata": {
    "id": "_1U5YW6Hy9AQ"
   },
   "outputs": [
    {
     "data": {
      "text/plain": [
       "['loss', 'acc']"
      ]
     },
     "execution_count": 40,
     "metadata": {},
     "output_type": "execute_result"
    }
   ],
   "source": [
    "# checking model metric_names\n",
    "\n",
    "model.metrics_names"
   ]
  },
  {
   "cell_type": "code",
   "execution_count": 41,
   "metadata": {
    "id": "nNs-zeipy9AQ"
   },
   "outputs": [
    {
     "data": {
      "text/html": [
       "<div>\n",
       "<style scoped>\n",
       "    .dataframe tbody tr th:only-of-type {\n",
       "        vertical-align: middle;\n",
       "    }\n",
       "\n",
       "    .dataframe tbody tr th {\n",
       "        vertical-align: top;\n",
       "    }\n",
       "\n",
       "    .dataframe thead th {\n",
       "        text-align: right;\n",
       "    }\n",
       "</style>\n",
       "<table border=\"1\" class=\"dataframe\">\n",
       "  <thead>\n",
       "    <tr style=\"text-align: right;\">\n",
       "      <th></th>\n",
       "      <th>loss</th>\n",
       "      <th>acc</th>\n",
       "      <th>val_loss</th>\n",
       "      <th>val_acc</th>\n",
       "    </tr>\n",
       "  </thead>\n",
       "  <tbody>\n",
       "    <tr>\n",
       "      <th>9</th>\n",
       "      <td>0.242</td>\n",
       "      <td>0.923</td>\n",
       "      <td>0.300</td>\n",
       "      <td>0.905</td>\n",
       "    </tr>\n",
       "    <tr>\n",
       "      <th>10</th>\n",
       "      <td>0.242</td>\n",
       "      <td>0.922</td>\n",
       "      <td>0.322</td>\n",
       "      <td>0.896</td>\n",
       "    </tr>\n",
       "    <tr>\n",
       "      <th>11</th>\n",
       "      <td>0.250</td>\n",
       "      <td>0.920</td>\n",
       "      <td>0.425</td>\n",
       "      <td>0.894</td>\n",
       "    </tr>\n",
       "    <tr>\n",
       "      <th>12</th>\n",
       "      <td>0.255</td>\n",
       "      <td>0.920</td>\n",
       "      <td>0.364</td>\n",
       "      <td>0.900</td>\n",
       "    </tr>\n",
       "    <tr>\n",
       "      <th>13</th>\n",
       "      <td>0.264</td>\n",
       "      <td>0.918</td>\n",
       "      <td>0.427</td>\n",
       "      <td>0.864</td>\n",
       "    </tr>\n",
       "  </tbody>\n",
       "</table>\n",
       "</div>"
      ],
      "text/plain": [
       "    loss   acc  val_loss  val_acc\n",
       "9  0.242 0.923     0.300    0.905\n",
       "10 0.242 0.922     0.322    0.896\n",
       "11 0.250 0.920     0.425    0.894\n",
       "12 0.255 0.920     0.364    0.900\n",
       "13 0.264 0.918     0.427    0.864"
      ]
     },
     "execution_count": 41,
     "metadata": {},
     "output_type": "execute_result"
    }
   ],
   "source": [
    "# Checking the last 5 model metrics values\n",
    "\n",
    "summary = pd.DataFrame(model.history.history)\n",
    "summary.tail()"
   ]
  },
  {
   "cell_type": "code",
   "execution_count": null,
   "metadata": {
    "id": "GCWiXV8Jy9AR"
   },
   "outputs": [],
   "source": []
  },
  {
   "cell_type": "markdown",
   "metadata": {
    "id": "3XCpFOMny9AR"
   },
   "source": [
    "**TASK 7: Plot values of metrics you used in your model.**"
   ]
  },
  {
   "cell_type": "code",
   "execution_count": 42,
   "metadata": {
    "id": "bIHP-OWay9AR",
    "scrolled": true
   },
   "outputs": [
    {
     "data": {
      "image/png": "[encoded data removed]",
      "text/plain": [
       "<Figure size 720x432 with 1 Axes>"
      ]
     },
     "metadata": {},
     "output_type": "display_data"
    }
   ],
   "source": [
    "# potting loss and val_loss values\n",
    "\n",
    "summary[[\"loss\", \"val_loss\"]].plot();"
   ]
  },
  {
   "cell_type": "code",
   "execution_count": 44,
   "metadata": {
    "id": "-G3AYebmy9AR"
   },
   "outputs": [
    {
     "data": {
      "image/png": "[encoded data removed]",
      "text/plain": [
       "<Figure size 720x432 with 1 Axes>"
      ]
     },
     "metadata": {},
     "output_type": "display_data"
    }
   ],
   "source": [
    "# potting accuracy(acc) and val_accuracy(val_acc) values\n",
    "\n",
    "summary[[\"acc\", \"val_acc\"]].plot();"
   ]
  },
  {
   "cell_type": "code",
   "execution_count": 45,
   "metadata": {
    "id": "0fP_1jcnPYTG"
   },
   "outputs": [
    {
     "data": {
      "image/png": "[encoded data removed]",
      "text/plain": [
       "<Figure size 720x432 with 1 Axes>"
      ]
     },
     "metadata": {},
     "output_type": "display_data"
    }
   ],
   "source": [
    "# plotting all scoring metrics of first model\n",
    "\n",
    "summary.plot();"
   ]
  },
  {
   "cell_type": "markdown",
   "metadata": {
    "id": "mnbSrjRqy9AR"
   },
   "source": [
    "## Model Evaluation\n",
    "\n",
    "**TASK 8: Show the accuracy,precision,recall,f1-score the model achieved on the x_test data set. Keep in mind, there are quite a few ways to do this, but we recommend following the same procedure we showed in the MNIST lecture.**"
   ]
  },
  {
   "cell_type": "code",
   "execution_count": 96,
   "metadata": {
    "id": "jsRHotomy9AR"
   },
   "outputs": [],
   "source": [
    "from sklearn.metrics import classification_report, confusion_matrix"
   ]
  },
  {
   "cell_type": "code",
   "execution_count": 47,
   "metadata": {
    "id": "-hWnNzv_y9AR"
   },
   "outputs": [
    {
     "name": "stdout",
     "output_type": "stream",
     "text": [
      "10000/10000 [==============================] - 2s 176us/sample - loss: 0.2531 - acc: 0.9096\n"
     ]
    },
    {
     "data": {
      "text/plain": [
       "[0.2531092789053917, 0.9096]"
      ]
     },
     "execution_count": 47,
     "metadata": {},
     "output_type": "execute_result"
    }
   ],
   "source": [
    "# evaluate the model performance with test data using model.evaluate method\n",
    "\n",
    "the model.evaluate(X_test, Y_test) "
   ]
  },
  {
   "cell_type": "code",
   "execution_count": 48,
   "metadata": {
    "id": "VqHvH7qXy9AR"
   },
   "outputs": [
    {
     "name": "stdout",
     "output_type": "stream",
     "text": [
      "Test loss: 0.2531092789053917\n",
      "Test accuracy: 0.9096\n"
     ]
    }
   ],
   "source": [
    "# print the loss and accuracy values of test data\n",
    "\n",
    "score = model.evaluate(X_test, Y_test, verbose=0)\n",
    "print('Test loss:', score[0])     # 0.8986572027206421\n",
    "print('Test accuracy:', score[1]) # 0.6941999793052673"
   ]
  },
  {
   "cell_type": "markdown",
   "metadata": {
    "id": "B69CotDIy9AR"
   },
   "source": [
    "## Prediction"
   ]
  },
  {
   "cell_type": "code",
   "execution_count": 49,
   "metadata": {
    "id": "NYTK7ywWy9AS"
   },
   "outputs": [],
   "source": [
    "# prediction using test data\n",
    "\n",
    "pred_prob = model.predict(X_test)"
   ]
  },
  {
   "cell_type": "code",
   "execution_count": 50,
   "metadata": {
    "id": "0WJvFHRxy9AS"
   },
   "outputs": [],
   "source": [
    "# getting the indexes of max values in predictions\n",
    "\n",
    "y_pred = np.argmax(pred_prob, axis=1)"
   ]
  },
  {
   "cell_type": "code",
   "execution_count": 51,
   "metadata": {
    "id": "02NyU30ZQKjI"
   },
   "outputs": [
    {
     "data": {
      "text/plain": [
       "array([9, 2, 1, ..., 8, 1, 5], dtype=int64)"
      ]
     },
     "execution_count": 51,
     "metadata": {},
     "output_type": "execute_result"
    }
   ],
   "source": [
    "y_pred "
   ]
  },
  {
   "cell_type": "code",
   "execution_count": 52,
   "metadata": {
    "id": "ZsCoO15qQKUA",
    "scrolled": true
   },
   "outputs": [
    {
     "name": "stdout",
     "output_type": "stream",
     "text": [
      "              precision    recall  f1-score   support\n",
      "\n",
      "           0       0.87      0.85      0.86      1000\n",
      "           1       0.99      0.98      0.98      1000\n",
      "           2       0.82      0.89      0.86      1000\n",
      "           3       0.88      0.94      0.91      1000\n",
      "           4       0.86      0.86      0.86      1000\n",
      "           5       0.98      0.98      0.98      1000\n",
      "           6       0.79      0.68      0.73      1000\n",
      "           7       0.96      0.95      0.96      1000\n",
      "           8       0.98      0.98      0.98      1000\n",
      "           9       0.96      0.97      0.96      1000\n",
      "\n",
      "    accuracy                           0.91     10000\n",
      "   macro avg       0.91      0.91      0.91     10000\n",
      "weighted avg       0.91      0.91      0.91     10000\n",
      "\n"
     ]
    }
   ],
   "source": [
    "# checking precision, recall and f1_score values with classification report\n",
    "\n",
    "print(classification_report(y_test, y_pred))"
   ]
  },
  {
   "cell_type": "markdown",
   "metadata": {
    "id": "aBrA2JKJbPBh"
   },
   "source": [
    "## MODEL 2"
   ]
  },
  {
   "cell_type": "code",
   "execution_count": 100,
   "metadata": {
    "id": "29H55NbebLGj"
   },
   "outputs": [],
   "source": [
    "from tensorflow.keras.layers import BatchNormalization"
   ]
  },
  {
   "cell_type": "code",
   "execution_count": 108,
   "metadata": {
    "id": "-WjquHgFbLDZ"
   },
   "outputs": [],
   "source": [
    "# build a second model\n",
    "\n",
    "model = Sequential()\n",
    "\n",
    "model.add(Conv2D(filters=28, kernel_size=(3,3), input_shape=img_shape, activation='relu'))\n",
    "model.add(BatchNormalization())\n",
    "model.add(MaxPool2D(pool_size=(2, 2), strides=(1,1)))\n",
    "\n",
    "model.add(Conv2D(filters=64, kernel_size=(3,3), input_shape=img_shape, activation='relu'))\n",
    "model.add(BatchNormalization())\n",
    "model.add(MaxPool2D(pool_size=(2, 2), strides=(1,1)))\n",
    "\n",
    "model.add(Conv2D(filters=28, kernel_size=(3,3), input_shape=img_shape, activation='relu'))\n",
    "model.add(BatchNormalization())\n",
    "model.add(MaxPool2D(pool_size=(2, 2), strides=(1,1)))\n",
    "\n",
    "model.add(Flatten())\n",
    "\n",
    "model.add(Dense(128, activation='relu'))\n",
    "model.add(Dropout(0.3))\n",
    "\n",
    "model.add(Dense(64, activation='relu'))\n",
    "model.add(Dropout(0.2))\n",
    "\n",
    "model.add(Dense(10, activation='softmax'))\n",
    "\n",
    "model.compile(loss='categorical_crossentropy', optimizer='rmsprop', metrics=['accuracy'])"
   ]
  },
  {
   "cell_type": "code",
   "execution_count": 109,
   "metadata": {
    "id": "48yk3WIIbLAx"
   },
   "outputs": [
    {
     "name": "stdout",
     "output_type": "stream",
     "text": [
      "Model: \"sequential_3\"\n",
      "_________________________________________________________________\n",
      "Layer (type)                 Output Shape              Param #   \n",
      "=================================================================\n",
      "conv2d_7 (Conv2D)            (None, 26, 26, 28)        280       \n",
      "_________________________________________________________________\n",
      "batch_normalization_3 (Batch (None, 26, 26, 28)        112       \n",
      "_________________________________________________________________\n",
      "max_pooling2d_6 (MaxPooling2 (None, 25, 25, 28)        0         \n",
      "_________________________________________________________________\n",
      "conv2d_8 (Conv2D)            (None, 23, 23, 64)        16192     \n",
      "_________________________________________________________________\n",
      "batch_normalization_4 (Batch (None, 23, 23, 64)        256       \n",
      "_________________________________________________________________\n",
      "max_pooling2d_7 (MaxPooling2 (None, 22, 22, 64)        0         \n",
      "_________________________________________________________________\n",
      "conv2d_9 (Conv2D)            (None, 20, 20, 28)        16156     \n",
      "_________________________________________________________________\n",
      "batch_normalization_5 (Batch (None, 20, 20, 28)        112       \n",
      "_________________________________________________________________\n",
      "max_pooling2d_8 (MaxPooling2 (None, 19, 19, 28)        0         \n",
      "_________________________________________________________________\n",
      "flatten_2 (Flatten)          (None, 10108)             0         \n",
      "_________________________________________________________________\n",
      "dense_6 (Dense)              (None, 128)               1293952   \n",
      "_________________________________________________________________\n",
      "dropout_2 (Dropout)          (None, 128)               0         \n",
      "_________________________________________________________________\n",
      "dense_7 (Dense)              (None, 64)                8256      \n",
      "_________________________________________________________________\n",
      "dropout_3 (Dropout)          (None, 64)                0         \n",
      "_________________________________________________________________\n",
      "dense_8 (Dense)              (None, 10)                650       \n",
      "=================================================================\n",
      "Total params: 1,335,966\n",
      "Trainable params: 1,335,726\n",
      "Non-trainable params: 240\n",
      "_________________________________________________________________\n"
     ]
    }
   ],
   "source": [
    "# checking the second CNN model architecture and count of parameters\n",
    "\n",
    "model.summary()"
   ]
  },
  {
   "cell_type": "code",
   "execution_count": null,
   "metadata": {
    "id": "_5Cu5k-gbK95"
   },
   "outputs": [],
   "source": []
  },
  {
   "cell_type": "markdown",
   "metadata": {
    "id": "zoq0pFpUy9AQ"
   },
   "source": [
    "##  Model Training \n",
    "\n",
    "**TASK 6: Train/Fit the model to the x_train set by using EarlyStop. Amount of epochs is up to you.**"
   ]
  },
  {
   "cell_type": "code",
   "execution_count": 110,
   "metadata": {
    "id": "Owgmr-QROqMl"
   },
   "outputs": [],
   "source": [
    "# defining early stop to prevent overfitting\n",
    "\n",
    "early_stop = EarlyStopping(monitor='val_loss', patience=10, restore_best_weights = True)"
   ]
  },
  {
   "cell_type": "code",
   "execution_count": 111,
   "metadata": {
    "id": "nOKhPrGeJef8"
   },
   "outputs": [
    {
     "name": "stdout",
     "output_type": "stream",
     "text": [
      "Train on 60000 samples, validate on 10000 samples\n",
      "Epoch 1/50\n",
      "60000/60000 [==============================] - 42s 700us/sample - loss: 0.7074 - acc: 0.7881 - val_loss: 0.4719 - val_acc: 0.8418\n",
      "Epoch 2/50\n",
      "60000/60000 [==============================] - 43s 711us/sample - loss: 0.4731 - acc: 0.8570 - val_loss: 0.4459 - val_acc: 0.8411\n",
      "Epoch 3/50\n",
      "60000/60000 [==============================] - 43s 719us/sample - loss: 0.4366 - acc: 0.8653 - val_loss: 0.4670 - val_acc: 0.8533\n",
      "Epoch 4/50\n",
      "60000/60000 [==============================] - 44s 725us/sample - loss: 0.4165 - acc: 0.8713 - val_loss: 0.3308 - val_acc: 0.8884\n",
      "Epoch 5/50\n",
      "60000/60000 [==============================] - 45s 743us/sample - loss: 0.3935 - acc: 0.8765 - val_loss: 0.3304 - val_acc: 0.8832\n",
      "Epoch 6/50\n",
      "60000/60000 [==============================] - 45s 749us/sample - loss: 0.3644 - acc: 0.8836 - val_loss: 0.3392 - val_acc: 0.8938\n",
      "Epoch 7/50\n",
      "60000/60000 [==============================] - 51s 844us/sample - loss: 0.3501 - acc: 0.8892 - val_loss: 0.3118 - val_acc: 0.8989\n",
      "Epoch 8/50\n",
      "60000/60000 [==============================] - 51s 843us/sample - loss: 0.3355 - acc: 0.8929 - val_loss: 0.3422 - val_acc: 0.8898\n",
      "Epoch 9/50\n",
      "60000/60000 [==============================] - 51s 846us/sample - loss: 0.3218 - acc: 0.8985 - val_loss: 0.3231 - val_acc: 0.8961\n",
      "Epoch 10/50\n",
      "60000/60000 [==============================] - 50s 840us/sample - loss: 0.3161 - acc: 0.8993 - val_loss: 0.3244 - val_acc: 0.8971\n",
      "Epoch 11/50\n",
      "60000/60000 [==============================] - 51s 846us/sample - loss: 0.3098 - acc: 0.9029 - val_loss: 0.3705 - val_acc: 0.9058\n",
      "Epoch 12/50\n",
      "60000/60000 [==============================] - 51s 850us/sample - loss: 0.3227 - acc: 0.9008 - val_loss: 0.3537 - val_acc: 0.8942\n",
      "Epoch 13/50\n",
      "60000/60000 [==============================] - 50s 841us/sample - loss: 0.3229 - acc: 0.9010 - val_loss: 0.3131 - val_acc: 0.9056\n",
      "Epoch 14/50\n",
      "60000/60000 [==============================] - 51s 851us/sample - loss: 0.3278 - acc: 0.9027 - val_loss: 0.3304 - val_acc: 0.8959\n",
      "Epoch 15/50\n",
      "60000/60000 [==============================] - 50s 839us/sample - loss: 0.3279 - acc: 0.9018 - val_loss: 0.3479 - val_acc: 0.9016\n",
      "Epoch 16/50\n",
      "60000/60000 [==============================] - 51s 843us/sample - loss: 0.3272 - acc: 0.9023 - val_loss: 0.4583 - val_acc: 0.8642\n",
      "Epoch 17/50\n",
      "60000/60000 [==============================] - 52s 866us/sample - loss: 0.3233 - acc: 0.9034 - val_loss: 0.3740 - val_acc: 0.8960\n",
      "Wall time: 13min 41s\n"
     ]
    },
    {
     "data": {
      "text/plain": [
       "<tensorflow.python.keras.callbacks.History at 0x1d6d75c8d68>"
      ]
     },
     "execution_count": 111,
     "metadata": {},
     "output_type": "execute_result"
    }
   ],
   "source": [
    "%%time\n",
    "model.fit(X_train, Y_train, batch_size=32, epochs=50, validation_data=(X_test,Y_test),callbacks=[early_stop])"
   ]
  },
  {
   "cell_type": "code",
   "execution_count": 112,
   "metadata": {
    "id": "TvgxHCjLJd6H"
   },
   "outputs": [],
   "source": [
    "# save model permanently and check\n",
    "\n",
    "model.save('fashion_mnist2.h5')"
   ]
  },
  {
   "cell_type": "code",
   "execution_count": 113,
   "metadata": {
    "id": "_1U5YW6Hy9AQ"
   },
   "outputs": [
    {
     "data": {
      "text/plain": [
       "['loss', 'acc']"
      ]
     },
     "execution_count": 113,
     "metadata": {},
     "output_type": "execute_result"
    }
   ],
   "source": [
    "model.metrics_names"
   ]
  },
  {
   "cell_type": "code",
   "execution_count": 116,
   "metadata": {
    "id": "nNs-zeipy9AQ"
   },
   "outputs": [
    {
     "data": {
      "text/html": [
       "<div>\n",
       "<style scoped>\n",
       "    .dataframe tbody tr th:only-of-type {\n",
       "        vertical-align: middle;\n",
       "    }\n",
       "\n",
       "    .dataframe tbody tr th {\n",
       "        vertical-align: top;\n",
       "    }\n",
       "\n",
       "    .dataframe thead th {\n",
       "        text-align: right;\n",
       "    }\n",
       "</style>\n",
       "<table border=\"1\" class=\"dataframe\">\n",
       "  <thead>\n",
       "    <tr style=\"text-align: right;\">\n",
       "      <th></th>\n",
       "      <th>loss</th>\n",
       "      <th>acc</th>\n",
       "      <th>val_loss</th>\n",
       "      <th>val_acc</th>\n",
       "    </tr>\n",
       "  </thead>\n",
       "  <tbody>\n",
       "    <tr>\n",
       "      <th>7</th>\n",
       "      <td>0.335</td>\n",
       "      <td>0.893</td>\n",
       "      <td>0.342</td>\n",
       "      <td>0.890</td>\n",
       "    </tr>\n",
       "    <tr>\n",
       "      <th>8</th>\n",
       "      <td>0.322</td>\n",
       "      <td>0.898</td>\n",
       "      <td>0.323</td>\n",
       "      <td>0.896</td>\n",
       "    </tr>\n",
       "    <tr>\n",
       "      <th>9</th>\n",
       "      <td>0.316</td>\n",
       "      <td>0.899</td>\n",
       "      <td>0.324</td>\n",
       "      <td>0.897</td>\n",
       "    </tr>\n",
       "    <tr>\n",
       "      <th>10</th>\n",
       "      <td>0.310</td>\n",
       "      <td>0.903</td>\n",
       "      <td>0.371</td>\n",
       "      <td>0.906</td>\n",
       "    </tr>\n",
       "    <tr>\n",
       "      <th>11</th>\n",
       "      <td>0.323</td>\n",
       "      <td>0.901</td>\n",
       "      <td>0.354</td>\n",
       "      <td>0.894</td>\n",
       "    </tr>\n",
       "    <tr>\n",
       "      <th>12</th>\n",
       "      <td>0.323</td>\n",
       "      <td>0.901</td>\n",
       "      <td>0.313</td>\n",
       "      <td>0.906</td>\n",
       "    </tr>\n",
       "    <tr>\n",
       "      <th>13</th>\n",
       "      <td>0.328</td>\n",
       "      <td>0.903</td>\n",
       "      <td>0.330</td>\n",
       "      <td>0.896</td>\n",
       "    </tr>\n",
       "    <tr>\n",
       "      <th>14</th>\n",
       "      <td>0.328</td>\n",
       "      <td>0.902</td>\n",
       "      <td>0.348</td>\n",
       "      <td>0.902</td>\n",
       "    </tr>\n",
       "    <tr>\n",
       "      <th>15</th>\n",
       "      <td>0.327</td>\n",
       "      <td>0.902</td>\n",
       "      <td>0.458</td>\n",
       "      <td>0.864</td>\n",
       "    </tr>\n",
       "    <tr>\n",
       "      <th>16</th>\n",
       "      <td>0.323</td>\n",
       "      <td>0.903</td>\n",
       "      <td>0.374</td>\n",
       "      <td>0.896</td>\n",
       "    </tr>\n",
       "  </tbody>\n",
       "</table>\n",
       "</div>"
      ],
      "text/plain": [
       "    loss   acc  val_loss  val_acc\n",
       "7  0.335 0.893     0.342    0.890\n",
       "8  0.322 0.898     0.323    0.896\n",
       "9  0.316 0.899     0.324    0.897\n",
       "10 0.310 0.903     0.371    0.906\n",
       "11 0.323 0.901     0.354    0.894\n",
       "12 0.323 0.901     0.313    0.906\n",
       "13 0.328 0.903     0.330    0.896\n",
       "14 0.328 0.902     0.348    0.902\n",
       "15 0.327 0.902     0.458    0.864\n",
       "16 0.323 0.903     0.374    0.896"
      ]
     },
     "execution_count": 116,
     "metadata": {},
     "output_type": "execute_result"
    }
   ],
   "source": [
    "# Checking the last 10 model metrics values\n",
    "\n",
    "summary = pd.DataFrame(model.history.history)\n",
    "summary.tail(10)"
   ]
  },
  {
   "cell_type": "code",
   "execution_count": null,
   "metadata": {
    "id": "GCWiXV8Jy9AR"
   },
   "outputs": [],
   "source": []
  },
  {
   "cell_type": "markdown",
   "metadata": {
    "id": "3XCpFOMny9AR"
   },
   "source": [
    "**TASK 7: Plot values of metrics you used in your model.**"
   ]
  },
  {
   "cell_type": "code",
   "execution_count": 117,
   "metadata": {
    "id": "bIHP-OWay9AR"
   },
   "outputs": [
    {
     "data": {
      "image/png": "[encoded data removed]",
      "text/plain": [
       "<Figure size 720x432 with 1 Axes>"
      ]
     },
     "metadata": {},
     "output_type": "display_data"
    }
   ],
   "source": [
    "# plotting loss and val_loss values of model 2\n",
    "\n",
    "summary[[\"loss\", \"val_loss\"]].plot();"
   ]
  },
  {
   "cell_type": "code",
   "execution_count": 118,
   "metadata": {
    "id": "-G3AYebmy9AR"
   },
   "outputs": [
    {
     "data": {
      "image/png": "[encoded data removed]",
      "text/plain": [
       "<Figure size 720x432 with 1 Axes>"
      ]
     },
     "metadata": {},
     "output_type": "display_data"
    }
   ],
   "source": [
    "# plotting accuracy and val_accuracy values of model 2\n",
    "\n",
    "summary[[\"acc\", \"val_acc\"]].plot();"
   ]
  },
  {
   "cell_type": "code",
   "execution_count": 119,
   "metadata": {
    "id": "0fP_1jcnPYTG"
   },
   "outputs": [
    {
     "data": {
      "image/png": "[encoded data removed]",
      "text/plain": [
       "<Figure size 720x432 with 1 Axes>"
      ]
     },
     "metadata": {},
     "output_type": "display_data"
    }
   ],
   "source": [
    "# plotting all scoring metrics of model 2\n",
    "\n",
    "summary.plot();"
   ]
  },
  {
   "cell_type": "markdown",
   "metadata": {
    "id": "mnbSrjRqy9AR"
   },
   "source": [
    "## Model Evaluation\n",
    "\n",
    "**TASK 8: Show the accuracy,precision,recall,f1-score the model achieved on the x_test data set. Keep in mind, there are quite a few ways to do this, but we recommend following the same procedure we showed in the MNIST lecture.**"
   ]
  },
  {
   "cell_type": "code",
   "execution_count": 120,
   "metadata": {
    "id": "jsRHotomy9AR"
   },
   "outputs": [],
   "source": [
    "from sklearn.metrics import classification_report, confusion_matrix"
   ]
  },
  {
   "cell_type": "code",
   "execution_count": 121,
   "metadata": {
    "id": "-hWnNzv_y9AR"
   },
   "outputs": [
    {
     "name": "stdout",
     "output_type": "stream",
     "text": [
      "10000/10000 [==============================] - 2s 193us/sample - loss: 0.3118 - acc: 0.8989\n"
     ]
    },
    {
     "data": {
      "text/plain": [
       "[0.311786820936203, 0.89890003]"
      ]
     },
     "execution_count": 121,
     "metadata": {},
     "output_type": "execute_result"
    }
   ],
   "source": [
    "# evaluate the model performance with test data using model.evaluate method\n",
    "\n",
    "model.evaluate(X_test, Y_test) "
   ]
  },
  {
   "cell_type": "code",
   "execution_count": 122,
   "metadata": {
    "id": "VqHvH7qXy9AR"
   },
   "outputs": [
    {
     "name": "stdout",
     "output_type": "stream",
     "text": [
      "Test loss: 0.311786820936203\n",
      "Test accuracy: 0.89890003\n"
     ]
    }
   ],
   "source": [
    "# print the loss and accuracy values of test data\n",
    "\n",
    "score = model.evaluate(X_test, Y_test, verbose=0)\n",
    "print('Test loss:', score[0])     # 0.8986572027206421\n",
    "print('Test accuracy:', score[1]) # 0.6941999793052673"
   ]
  },
  {
   "cell_type": "code",
   "execution_count": 123,
   "metadata": {
    "id": "NYTK7ywWy9AS"
   },
   "outputs": [],
   "source": [
    "# prediction using test data\n",
    "\n",
    "pred_prob = model.predict(X_test)"
   ]
  },
  {
   "cell_type": "code",
   "execution_count": 124,
   "metadata": {
    "id": "0WJvFHRxy9AS"
   },
   "outputs": [],
   "source": [
    "# getting the indexes of max values in predictions\n",
    "\n",
    "y_pred = np.argmax(pred_prob, axis=1)"
   ]
  },
  {
   "cell_type": "code",
   "execution_count": 125,
   "metadata": {
    "id": "02NyU30ZQKjI"
   },
   "outputs": [
    {
     "data": {
      "text/plain": [
       "array([9, 2, 1, ..., 8, 1, 5], dtype=int64)"
      ]
     },
     "execution_count": 125,
     "metadata": {},
     "output_type": "execute_result"
    }
   ],
   "source": [
    "y_pred "
   ]
  },
  {
   "cell_type": "code",
   "execution_count": 126,
   "metadata": {
    "id": "ZsCoO15qQKUA",
    "scrolled": true
   },
   "outputs": [
    {
     "name": "stdout",
     "output_type": "stream",
     "text": [
      "              precision    recall  f1-score   support\n",
      "\n",
      "           0       0.79      0.92      0.85      1000\n",
      "           1       0.99      0.98      0.98      1000\n",
      "           2       0.80      0.90      0.85      1000\n",
      "           3       0.84      0.94      0.89      1000\n",
      "           4       0.87      0.82      0.84      1000\n",
      "           5       0.99      0.97      0.98      1000\n",
      "           6       0.83      0.57      0.68      1000\n",
      "           7       0.93      0.98      0.96      1000\n",
      "           8       0.99      0.97      0.98      1000\n",
      "           9       0.98      0.95      0.96      1000\n",
      "\n",
      "    accuracy                           0.90     10000\n",
      "   macro avg       0.90      0.90      0.90     10000\n",
      "weighted avg       0.90      0.90      0.90     10000\n",
      "\n"
     ]
    }
   ],
   "source": [
    "print(classification_report(y_test, y_pred))"
   ]
  },
  {
   "cell_type": "code",
   "execution_count": 127,
   "metadata": {
    "id": "WveAZ0HebKM1"
   },
   "outputs": [
    {
     "data": {
      "text/plain": [
       "<AxesSubplot:>"
      ]
     },
     "execution_count": 127,
     "metadata": {},
     "output_type": "execute_result"
    },
    {
     "data": {
      "image/png": "[encoded data removed]",
      "text/plain": [
       "<Figure size 1080x720 with 2 Axes>"
      ]
     },
     "metadata": {},
     "output_type": "display_data"
    }
   ],
   "source": [
    "# plotting confusion matrix with heatmap\n",
    "\n",
    "plt.figure(figsize=(15,10))\n",
    "sns.heatmap(confusion_matrix(y_test, y_pred), annot=True, cmap=\"Blues\", linewidths=.5, linecolor='black', fmt='g', annot_kws = {\"size\": 14})"
   ]
  },
  {
   "cell_type": "markdown",
   "metadata": {
    "id": "B69CotDIy9AR"
   },
   "source": [
    "## Prediction"
   ]
  },
  {
   "cell_type": "code",
   "execution_count": 128,
   "metadata": {},
   "outputs": [],
   "source": [
    "# define an image to use in prediction\n",
    "\n",
    "my_image = X_test[50]"
   ]
  },
  {
   "cell_type": "code",
   "execution_count": 129,
   "metadata": {},
   "outputs": [
    {
     "data": {
      "text/plain": [
       "(28, 28, 1)"
      ]
     },
     "execution_count": 129,
     "metadata": {},
     "output_type": "execute_result"
    }
   ],
   "source": [
    "# checking the shape of image which will be used in prediction\n",
    "\n",
    "my_image.shape"
   ]
  },
  {
   "cell_type": "code",
   "execution_count": 130,
   "metadata": {},
   "outputs": [
    {
     "data": {
      "text/plain": [
       "<matplotlib.image.AxesImage at 0x1d6b565e8d0>"
      ]
     },
     "execution_count": 130,
     "metadata": {},
     "output_type": "execute_result"
    },
    {
     "data": {
      "image/png": "[encoded data removed]",
      "text/plain": [
       "<Figure size 720x432 with 1 Axes>"
      ]
     },
     "metadata": {},
     "output_type": "display_data"
    }
   ],
   "source": [
    "# plotting the image whic will be predict\n",
    "\n",
    "plt.imshow(my_image, cmap=\"Greys_r\")"
   ]
  },
  {
   "cell_type": "code",
   "execution_count": 131,
   "metadata": {},
   "outputs": [],
   "source": [
    "# prediction with the image in test data\n",
    "\n",
    "image_prediction = model.predict(my_image.reshape(1,28,28,1))"
   ]
  },
  {
   "cell_type": "code",
   "execution_count": 132,
   "metadata": {},
   "outputs": [
    {
     "data": {
      "text/plain": [
       "array([[1.3012250e-03, 7.4744985e-06, 1.2565482e-01, 6.7652337e-04,\n",
       "        6.6049600e-01, 1.1409702e-06, 2.1173844e-01, 3.3259839e-06,\n",
       "        1.1897332e-04, 2.1539893e-06]], dtype=float32)"
      ]
     },
     "execution_count": 132,
     "metadata": {},
     "output_type": "execute_result"
    }
   ],
   "source": [
    "# to show the prediction result\n",
    "\n",
    "image_prediction"
   ]
  },
  {
   "cell_type": "code",
   "execution_count": 133,
   "metadata": {},
   "outputs": [
    {
     "data": {
      "text/plain": [
       "array([4], dtype=int64)"
      ]
     },
     "execution_count": 133,
     "metadata": {},
     "output_type": "execute_result"
    }
   ],
   "source": [
    "# taking the max. index values of predictions\n",
    "\n",
    "np.argmax(image_prediction, axis=1)"
   ]
  },
  {
   "cell_type": "code",
   "execution_count": 134,
   "metadata": {},
   "outputs": [],
   "source": [
    "# prediction result of the image we select above\n",
    "\n",
    "result=np.argmax(image_prediction, axis=1)"
   ]
  },
  {
   "cell_type": "code",
   "execution_count": 135,
   "metadata": {},
   "outputs": [
    {
     "data": {
      "text/plain": [
       "array([4], dtype=int64)"
      ]
     },
     "execution_count": 135,
     "metadata": {},
     "output_type": "execute_result"
    }
   ],
   "source": [
    "result"
   ]
  },
  {
   "cell_type": "code",
   "execution_count": 136,
   "metadata": {},
   "outputs": [
    {
     "data": {
      "text/plain": [
       "'Coat'"
      ]
     },
     "execution_count": 136,
     "metadata": {},
     "output_type": "execute_result"
    }
   ],
   "source": [
    "# finding the class of the prediction\n",
    "\n",
    "classes[int(result)]"
   ]
  },
  {
   "cell_type": "code",
   "execution_count": 145,
   "metadata": {},
   "outputs": [
    {
     "data": {
      "text/plain": [
       "array([False, False, False, ..., False, False, False])"
      ]
     },
     "execution_count": 145,
     "metadata": {},
     "output_type": "execute_result"
    }
   ],
   "source": [
    "# finding the total number of mis-predictions\n",
    "\n",
    "y_test != y_pred"
   ]
  },
  {
   "cell_type": "code",
   "execution_count": 148,
   "metadata": {},
   "outputs": [
    {
     "data": {
      "text/plain": [
       "1011"
      ]
     },
     "execution_count": 148,
     "metadata": {},
     "output_type": "execute_result"
    }
   ],
   "source": [
    "# finding the total number of mis-predictions\n",
    "\n",
    "(y_test != y_pred).sum()"
   ]
  },
  {
   "cell_type": "code",
   "execution_count": 149,
   "metadata": {},
   "outputs": [
    {
     "data": {
      "text/plain": [
       "0.1011"
      ]
     },
     "execution_count": 149,
     "metadata": {},
     "output_type": "execute_result"
    }
   ],
   "source": [
    "# finding the proportion of mis-predictions in total test data\n",
    "\n",
    "(y_test != y_pred).sum()/len(y_test)"
   ]
  },
  {
   "cell_type": "markdown",
   "metadata": {},
   "source": [
    "## finished"
   ]
  },
  {
   "cell_type": "code",
   "execution_count": 137,
   "metadata": {},
   "outputs": [],
   "source": [
    "import tensorflow as tf"
   ]
  },
  {
   "cell_type": "code",
   "execution_count": 138,
   "metadata": {},
   "outputs": [],
   "source": [
    "# We have already saved the second model above. So we can load it with tensorflow load_model method to make prediction.\n",
    "\n",
    "model=tf.keras.models.load_model('fashion_mnist2.h5')"
   ]
  },
  {
   "cell_type": "code",
   "execution_count": 139,
   "metadata": {},
   "outputs": [
    {
     "data": {
      "text/plain": [
       "(28, 28, 1)"
      ]
     },
     "execution_count": 139,
     "metadata": {},
     "output_type": "execute_result"
    }
   ],
   "source": [
    "# checking the size of image which will be used in predictions\n",
    "\n",
    "X_test[88].shape"
   ]
  },
  {
   "cell_type": "code",
   "execution_count": 140,
   "metadata": {},
   "outputs": [
    {
     "data": {
      "text/plain": [
       "(1, 28, 28, 1)"
      ]
     },
     "execution_count": 140,
     "metadata": {},
     "output_type": "execute_result"
    }
   ],
   "source": [
    "# expanding the image shape\n",
    "\n",
    "np.expand_dims(X_test[88],axis=0).shape"
   ]
  },
  {
   "cell_type": "code",
   "execution_count": 141,
   "metadata": {},
   "outputs": [],
   "source": [
    "# making predictions\n",
    "\n",
    "pred=model.predict(np.expand_dims(X_test[88],axis=0))"
   ]
  },
  {
   "cell_type": "code",
   "execution_count": 142,
   "metadata": {},
   "outputs": [
    {
     "data": {
      "text/plain": [
       "0"
      ]
     },
     "execution_count": 142,
     "metadata": {},
     "output_type": "execute_result"
    }
   ],
   "source": [
    "# getting the max index value of prediction as a class number\n",
    "\n",
    "np.argmax(pred)"
   ]
  },
  {
   "cell_type": "code",
   "execution_count": 143,
   "metadata": {
    "scrolled": true
   },
   "outputs": [
    {
     "data": {
      "text/plain": [
       "<matplotlib.image.AxesImage at 0x1d6b58edf60>"
      ]
     },
     "execution_count": 143,
     "metadata": {},
     "output_type": "execute_result"
    },
    {
     "data": {
      "image/png": "[encoded data removed]",
      "text/plain": [
       "<Figure size 720x432 with 1 Axes>"
      ]
     },
     "metadata": {},
     "output_type": "display_data"
    }
   ],
   "source": [
    "plt.imshow(X_test[88])"
   ]
  },
  {
   "cell_type": "code",
   "execution_count": 144,
   "metadata": {},
   "outputs": [
    {
     "data": {
      "text/plain": [
       "'T-shirt/top'"
      ]
     },
     "execution_count": 144,
     "metadata": {},
     "output_type": "execute_result"
    }
   ],
   "source": [
    "# getting the class name of the prediction\n",
    "\n",
    "classes[np.argmax(pred)]"
   ]
  },
  {
   "cell_type": "markdown",
   "metadata": {
    "id": "ShxzeTC3y9AS"
   },
   "source": [
    "# End of Assignment"
   ]
  },
  {
   "cell_type": "markdown",
   "metadata": {
    "id": "9maxGZAEy9AS"
   },
   "source": [
    "___\n",
    "\n",
    "<p style=\"text-align: center;\"><img src=\"https://docs.google.com/uc?id=1lY0Uj5R04yMY3-ZppPWxqCr5pvBLYPnV\" class=\"img-fluid\" alt=\"CLRSWY\"></p>\n",
    "\n",
    "___"
   ]
  }
 ],
 "metadata": {
  "colab": {
   "collapsed_sections": [],
   "provenance": [],
   "toc_visible": true
  },
  "kernelspec": {
   "display_name": "Python (DL_env)",
   "language": "python",
   "name": "dl_env"
  },
  "language_info": {
   "codemirror_mode": {
    "name": "ipython",
    "version": 3
   },
   "file_extension": ".py",
   "mimetype": "text/x-python",
   "name": "python",
   "nbconvert_exporter": "python",
   "pygments_lexer": "ipython3",
   "version": "3.6.13"
  },
  "toc": {
   "base_numbering": 1,
   "nav_menu": {},
   "number_sections": false,
   "sideBar": true,
   "skip_h1_title": false,
   "title_cell": "Table of Contents",
   "title_sidebar": "Contents",
   "toc_cell": false,
   "toc_position": {
    "height": "calc(100% - 180px)",
    "left": "10px",
    "top": "150px",
    "width": "307.2px"
   },
   "toc_section_display": true,
   "toc_window_display": true
  }
 },
 "nbformat": 4,
 "nbformat_minor": 1
}
